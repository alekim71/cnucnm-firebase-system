{
 "cells": [
  {
   "cell_type": "code",
   "execution_count": null,
   "id": "dd9bec2c-4ade-4eb1-99f8-3841e3cff7e3",
   "metadata": {},
   "outputs": [],
   "source": [
    "# Streamlit 앱 실행\n",
    "!streamlit run cnucnm_streamlit_app.py --server.port 8501 --server.headless true"
   ]
  }
 ],
 "metadata": {
  "kernelspec": {
   "display_name": "Python 3 (ipykernel)",
   "language": "python",
   "name": "python3"
  },
  "language_info": {
   "codemirror_mode": {
    "name": "ipython",
    "version": 3
   },
   "file_extension": ".py",
   "mimetype": "text/x-python",
   "name": "python",
   "nbconvert_exporter": "python",
   "pygments_lexer": "ipython3",
   "version": "3.11.6"
  }
 },
 "nbformat": 4,
 "nbformat_minor": 5
}
